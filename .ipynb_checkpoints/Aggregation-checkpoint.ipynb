{
 "cells": [
  {
   "cell_type": "markdown",
   "metadata": {},
   "source": [
    "Universal functions of Numpy arrays\n"
   ]
  },
  {
   "cell_type": "code",
   "execution_count": 7,
   "metadata": {},
   "outputs": [
    {
     "name": "stdout",
     "output_type": "stream",
     "text": [
      "('x     =', array([0, 1, 2, 3]))\n",
      "('x + 5 =', array([5, 6, 7, 8]))\n",
      "('x - 5 =', array([-5, -4, -3, -2]))\n",
      "('x * 2 =', array([0, 2, 4, 6]))\n",
      "('x / 2 =', array([0, 0, 1, 1]))\n",
      "('x // 2 =', array([0, 0, 1, 1]))\n"
     ]
    }
   ],
   "source": [
    "import numpy as np\n",
    "x = np.arange(4)\n",
    "print(\"x     =\", x)\n",
    "print(\"x + 5 =\", x + 5)\n",
    "print(\"x - 5 =\", x - 5)\n",
    "print(\"x * 2 =\", x * 2)\n",
    "print(\"x / 2 =\", x / 2)\n",
    "print(\"x // 2 =\", x // 2) "
   ]
  },
  {
   "cell_type": "markdown",
   "metadata": {},
   "source": [
    "\n",
    "\n",
    "Absolute - abs()\n"
   ]
  },
  {
   "cell_type": "code",
   "execution_count": 8,
   "metadata": {},
   "outputs": [
    {
     "name": "stdout",
     "output_type": "stream",
     "text": [
      "[ 1  2 34 56]\n"
     ]
    }
   ],
   "source": [
    "x1 = np.array([-1, -2, -34,-56])\n",
    "print abs(x1)\n"
   ]
  },
  {
   "cell_type": "markdown",
   "metadata": {},
   "source": [
    "\n",
    "\n",
    "Trignometric functions"
   ]
  },
  {
   "cell_type": "code",
   "execution_count": 10,
   "metadata": {},
   "outputs": [
    {
     "data": {
      "text/plain": [
       "array([0.        , 3.14159265, 3.        ])"
      ]
     },
     "execution_count": 10,
     "metadata": {},
     "output_type": "execute_result"
    }
   ],
   "source": [
    "theta = np.array([0, np.pi, 3])\n",
    "theta\n"
   ]
  },
  {
   "cell_type": "code",
   "execution_count": 13,
   "metadata": {},
   "outputs": [
    {
     "name": "stdout",
     "output_type": "stream",
     "text": [
      "('sin(theta):', array([0.00000000e+00, 1.22464680e-16, 1.41120008e-01]))\n",
      "('cos(theta):', array([ 1.       , -1.       , -0.9899925]))\n",
      "('tan(theta):', array([ 0.00000000e+00, -1.22464680e-16, -1.42546543e-01]))\n"
     ]
    }
   ],
   "source": [
    "print (\"sin(theta):\", np.sin(theta))\n",
    "print (\"cos(theta):\", np.cos(theta))\n",
    "print (\"tan(theta):\", np.tan(theta))"
   ]
  },
  {
   "cell_type": "code",
   "execution_count": 14,
   "metadata": {},
   "outputs": [
    {
     "name": "stdout",
     "output_type": "stream",
     "text": [
      "('x         = ', [-1, 0, 1])\n",
      "('arcsin(x) = ', array([-1.57079633,  0.        ,  1.57079633]))\n",
      "('arccos(x) = ', array([3.14159265, 1.57079633, 0.        ]))\n",
      "('arctan(x) = ', array([-0.78539816,  0.        ,  0.78539816]))\n"
     ]
    }
   ],
   "source": [
    "x = [-1, 0, 1]\n",
    "print(\"x         = \", x)\n",
    "print(\"arcsin(x) = \", np.arcsin(x))\n",
    "print(\"arccos(x) = \", np.arccos(x))\n",
    "print(\"arctan(x) = \", np.arctan(x))"
   ]
  },
  {
   "cell_type": "markdown",
   "metadata": {},
   "source": [
    "Exponents and Logarithms"
   ]
  },
  {
   "cell_type": "code",
   "execution_count": 18,
   "metadata": {},
   "outputs": [
    {
     "name": "stdout",
     "output_type": "stream",
     "text": [
      "('e^x', array([ 7.3890561 , 20.08553692, 54.59815003]))\n",
      "('2^x', array([ 4.,  8., 16.]))\n",
      "('10^x', array([  100,  1000, 10000]))\n"
     ]
    }
   ],
   "source": [
    "x = np.array([2,3,4])\n",
    "print (\"e^x\", np.exp(x))\n",
    "print (\"2^x\", np.exp2(x))\n",
    "print (\"10^x\", np.power(10,x))\n"
   ]
  },
  {
   "cell_type": "code",
   "execution_count": 20,
   "metadata": {},
   "outputs": [
    {
     "name": "stdout",
     "output_type": "stream",
     "text": [
      "('ln(x)', array([0.69314718, 1.09861229, 1.38629436]))\n",
      "('log2(x)', array([1.       , 1.5849625, 2.       ]))\n",
      "('log10(x)', array([0.30103   , 0.47712125, 0.60205999]))\n"
     ]
    }
   ],
   "source": [
    "print (\"ln(x)\", np.log(x))\n",
    "print (\"log2(x)\", np.log2(x))\n",
    "print (\"log10(x)\", np.log10(x))\n",
    "\n"
   ]
  },
  {
   "cell_type": "markdown",
   "metadata": {},
   "source": [
    "Scipy.special\n"
   ]
  },
  {
   "cell_type": "code",
   "execution_count": 21,
   "metadata": {
    "collapsed": true
   },
   "outputs": [],
   "source": [
    "from scipy import special\n"
   ]
  },
  {
   "cell_type": "code",
   "execution_count": 25,
   "metadata": {},
   "outputs": [
    {
     "name": "stdout",
     "output_type": "stream",
     "text": [
      "('gamma(x)', array([1., 2., 6.]))\n",
      "('beta(x,3)', array([0.08333333, 0.03333333, 0.01666667]))\n"
     ]
    }
   ],
   "source": [
    "print (\"gamma(x)\", special.gamma(x))\n",
    "print (\"beta(x,3)\", special.beta(x,3))\n"
   ]
  },
  {
   "cell_type": "code",
   "execution_count": 29,
   "metadata": {},
   "outputs": [
    {
     "data": {
      "text/plain": [
       "array([ 0., 10., 20., 30., 40.])"
      ]
     },
     "execution_count": 29,
     "metadata": {},
     "output_type": "execute_result"
    }
   ],
   "source": [
    "x = np.arange(5)\n",
    "y = np.empty(5)\n",
    "np.multiply(x,10, out = y)\n",
    "y"
   ]
  },
  {
   "cell_type": "markdown",
   "metadata": {},
   "source": [
    "\n",
    "Aggregate Functions"
   ]
  },
  {
   "cell_type": "code",
   "execution_count": 36,
   "metadata": {},
   "outputs": [
    {
     "data": {
      "text/plain": [
       "52.53482002563814"
      ]
     },
     "execution_count": 36,
     "metadata": {},
     "output_type": "execute_result"
    }
   ],
   "source": [
    "L = np.random.random(100)\n",
    "sum(L)"
   ]
  },
  {
   "cell_type": "code",
   "execution_count": 50,
   "metadata": {},
   "outputs": [
    {
     "name": "stdout",
     "output_type": "stream",
     "text": [
      "The slowest run took 34.20 times longer than the fastest. This could mean that an intermediate result is being cached.\n",
      "10000000 loops, best of 3: 34.9 ns per loop\n"
     ]
    }
   ],
   "source": [
    "big_array = np.random.rand(100000)\n",
    "np.sum(big_array)\n",
    "%timeit(big_array)"
   ]
  },
  {
   "cell_type": "code",
   "execution_count": 56,
   "metadata": {},
   "outputs": [
    {
     "data": {
      "text/plain": [
       "(8.426215905910084e-06, 0.9999979023374991)"
      ]
     },
     "execution_count": 56,
     "metadata": {},
     "output_type": "execute_result"
    }
   ],
   "source": [
    "min(big_array), max(big_array)\n"
   ]
  },
  {
   "cell_type": "code",
   "execution_count": 57,
   "metadata": {},
   "outputs": [
    {
     "name": "stdout",
     "output_type": "stream",
     "text": [
      "100 loops, best of 3: 10.4 ms per loop\n",
      "The slowest run took 4.71 times longer than the fastest. This could mean that an intermediate result is being cached.\n",
      "10000 loops, best of 3: 60.7 µs per loop\n"
     ]
    }
   ],
   "source": [
    "%timeit min(big_array)\n",
    "%timeit np.min(big_array)"
   ]
  },
  {
   "cell_type": "code",
   "execution_count": 58,
   "metadata": {},
   "outputs": [
    {
     "name": "stdout",
     "output_type": "stream",
     "text": [
      "100 loops, best of 3: 10.4 ms per loop\n",
      "The slowest run took 7.15 times longer than the fastest. This could mean that an intermediate result is being cached.\n",
      "10000 loops, best of 3: 57.3 µs per loop\n"
     ]
    }
   ],
   "source": [
    "%timeit max(big_array)\n",
    "%timeit np.max(big_array)"
   ]
  },
  {
   "cell_type": "code",
   "execution_count": null,
   "metadata": {
    "collapsed": true
   },
   "outputs": [],
   "source": []
  },
  {
   "cell_type": "markdown",
   "metadata": {},
   "source": [
    "Multi Dimensional Aggregate"
   ]
  },
  {
   "cell_type": "code",
   "execution_count": 62,
   "metadata": {},
   "outputs": [
    {
     "data": {
      "text/plain": [
       "array([[0.72958023, 0.67626677, 0.31070494, 0.79021693],\n",
       "       [0.14198112, 0.41464691, 0.81292461, 0.22367271],\n",
       "       [0.25882611, 0.51259131, 0.15236883, 0.40997023]])"
      ]
     },
     "execution_count": 62,
     "metadata": {},
     "output_type": "execute_result"
    }
   ],
   "source": [
    "m = np.random.random((3,4))\n",
    "m\n"
   ]
  },
  {
   "cell_type": "code",
   "execution_count": 63,
   "metadata": {},
   "outputs": [
    {
     "data": {
      "text/plain": [
       "5.433750680563385"
      ]
     },
     "execution_count": 63,
     "metadata": {},
     "output_type": "execute_result"
    }
   ],
   "source": [
    "m.sum()"
   ]
  },
  {
   "cell_type": "markdown",
   "metadata": {},
   "source": [
    "Population Example"
   ]
  },
  {
   "cell_type": "code",
   "execution_count": 3,
   "metadata": {},
   "outputs": [
    {
     "name": "stdout",
     "output_type": "stream",
     "text": [
      "Zip Code,Total Population,Median Age,Total Males,Total Females,Total Households,Average Household Size\r\n",
      "91371,1,73.5,0,1,1,1\r\n",
      "90001,57110,26.6,28468,28642,12971,4.4\r\n",
      "90002,51223,25.5,24876,26347,11731,4.36\r\n"
     ]
    }
   ],
   "source": [
    "!head -4 Populations_by_Zip_Code.csv\n"
   ]
  },
  {
   "cell_type": "code",
   "execution_count": 9,
   "metadata": {},
   "outputs": [
    {
     "name": "stdout",
     "output_type": "stream",
     "text": [
      "[     1  57110  51223  66266  62180  37681  59185  40920  32327   3800\n",
      " 103892  31103  11772   7005  18986  47596  23768  49310  64458  38967\n",
      "   3951  67179  45903  47452  42147  67869  45151  28714  38617  39316\n",
      "  45786  48852  57964  28418  36865  62276  28917  28514  12520  27425\n",
      "  62430  44789  89779  39480  48581  48606  21397  35482   7827  44998\n",
      "   3223  40952  26872  32821  55758  25403  45527  55277   2424  22286\n",
      "  20483     15    539   9377      0   3217      0   5464      3 101279\n",
      "  21741   8434  11555  49328  53704  31869  31766  15149  25876  42399\n",
      "  43497  16654  47487   9947  26669  93193  19506  75066  34924  69745\n",
      "   1612  18116  35135  27372  22986  25209  41804  35293  40071  94396\n",
      "   6368  28341  21576  12132  36568  29415  26176  28210  14853   6722\n",
      "  12250  24525  21360  27186  43180  18010  44383  32102  36678      0\n",
      "  31974  25777  20063  39407  40331  32396  35153  15554  47993  67619\n",
      "  49012  62549 105549  62928  14866  16591  49399   4090  76615  25457\n",
      "  31499  27925  20388  14184  21318  21751  54099  59662  21115  23729\n",
      "  53815  57251  25990      0  11074  39347  32031  40311  93524  42399\n",
      "  31481  38232  36735  58911  19131  39733    117      0  36126  31715\n",
      "  34095   1391  26074  20280  40598   8415  10917  25616  20372  27585\n",
      "    156  20460  27480  36751  11254  24229  32940  13361  22781  22830\n",
      "  13220  16032  37810  33065  10506  16245    328  30356  25488  25709\n",
      "  26855  50231  45061  24474  36557  26898  34882  27669  32417  33708\n",
      "   2702 103689  74363  34188  91725  60254  51747  18496  33348  32362\n",
      "  47807  28722  32605  29458  20438  36045  25851  39499  13811  20158\n",
      "  29855  40328  19786  39285  69817  23484  51145  51558  24628  30991\n",
      "  14372  20849  11371  24939  30778  18904  37180  17473  29034  56343\n",
      "  44958  27927      0  59705  76571  74796  80358  35705  34409  18275\n",
      "  26184  29591  61386  43896  25356  25824  85040  54013  30485  45406\n",
      "  33249  32742  27496    476  36375  46457  71599  48068  34537  62097\n",
      "  33119  23988  38475  34332  25938  51165  43079  44907  32414  30854\n",
      "  52735  30322  32725  16763   6220   4894  35533   3613  51767   2031\n",
      "  54366   5077   1699   4176   7993   3074   2932  39341  72046  70918\n",
      "  13033   1259  74929  50798  38158   2138  18910    388   7285]\n"
     ]
    }
   ],
   "source": [
    "import pandas as pd\n",
    "data = pd.read_csv('Populations_by_Zip_Code.csv')\n",
    "population = np.array(data['Total Population'])\n",
    "print (population) "
   ]
  },
  {
   "cell_type": "code",
   "execution_count": 18,
   "metadata": {},
   "outputs": [
    {
     "name": "stdout",
     "output_type": "stream",
     "text": [
      "('mean population:', 33241.34169278997)\n",
      "('total population:', 10603988)\n",
      "('min population:', 0)\n",
      "('max population:', 105549)\n",
      "('standard deviation:', 21610.465406606647)\n",
      "('25th percentile:', 19318.5)\n",
      "('75th percentile:', 44978.0)\n",
      "('median:', 31481.0)\n"
     ]
    }
   ],
   "source": [
    "print ('mean population:', population.mean())\n",
    "print ('total population:', population.sum())\n",
    "print ('min population:', population.min())\n",
    "print ('max population:', population.max())\n",
    "print ('standard deviation:', population.std())\n",
    "print ('25th percentile:', np.percentile(population,25))\n",
    "print ('75th percentile:', np.percentile(population,75))\n",
    "print ('median:', np.median(population))"
   ]
  },
  {
   "cell_type": "markdown",
   "metadata": {},
   "source": [
    "Matplotlib"
   ]
  },
  {
   "cell_type": "code",
   "execution_count": 19,
   "metadata": {
    "collapsed": true
   },
   "outputs": [],
   "source": [
    "%matplotlib inline\n",
    "import matplotlib.pyplot as plt\n",
    "import seaborn; seaborn.set()\n"
   ]
  },
  {
   "cell_type": "code",
   "execution_count": 22,
   "metadata": {},
   "outputs": [
    {
     "data": {
      "text/plain": [
       "Text(0,0.5,u'number')"
      ]
     },
     "execution_count": 22,
     "metadata": {},
     "output_type": "execute_result"
    },
    {
     "data": {
      "image/png": "[encoded data removed]",
      "text/plain": [
       "<matplotlib.figure.Figure at 0x7f6110ac3750>"
      ]
     },
     "metadata": {},
     "output_type": "display_data"
    }
   ],
   "source": [
    "plt.hist(population)\n",
    "plt.title('Population')\n",
    "plt.xlabel('Total Population')\n",
    "plt.ylabel('number')"
   ]
  },
  {
   "cell_type": "code",
   "execution_count": null,
   "metadata": {
    "collapsed": true
   },
   "outputs": [],
   "source": []
  }
 ],
 "metadata": {
  "kernelspec": {
   "display_name": "Python 2",
   "language": "python",
   "name": "python2"
  },
  "language_info": {
   "codemirror_mode": {
    "name": "ipython",
    "version": 2
   },
   "file_extension": ".py",
   "mimetype": "text/x-python",
   "name": "python",
   "nbconvert_exporter": "python",
   "pygments_lexer": "ipython2",
   "version": "2.7.14"
  }
 },
 "nbformat": 4,
 "nbformat_minor": 2
}
