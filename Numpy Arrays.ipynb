{
 "cells": [
  {
   "cell_type": "markdown",
   "metadata": {},
   "source": [
    "NumPy Array Attributes\n",
    "\n"
   ]
  },
  {
   "cell_type": "code",
   "execution_count": 4,
   "metadata": {},
   "outputs": [],
   "source": [
    "import numpy as np\n",
    "np.random.seed(0)\n",
    "x1 = np.random.randint(10, size = 6)\n",
    "x2 = np.random.randint(10, size = (3,4))\n",
    "x3 = np.random.randint(10, size = (3,4,5))"
   ]
  },
  {
   "cell_type": "markdown",
   "metadata": {},
   "source": [
    "Each array has attributes:\n",
    "1. ndim(no of dimensions), \n",
    "2. shape(size of each dimension,\n",
    "3. size(total size of array),\n",
    "4. dtype(type of array))\n",
    "5. itemsize(lists the size (in bytes) of each array element),\n",
    "5. nbytes(lists the total size (in bytes) of the array).\n",
    "\n",
    "nbytes = size * itemsize.\n",
    "\n",
    "\n"
   ]
  },
  {
   "cell_type": "code",
   "execution_count": 6,
   "metadata": {},
   "outputs": [
    {
     "name": "stdout",
     "output_type": "stream",
     "text": [
      "('x3, ndim:', 3)\n",
      "('x3, shape:', (3, 4, 5))\n",
      "('x3, size:', 60)\n",
      "('x3, type:', dtype('int64'))\n",
      "('x3, itemsize', 8)\n",
      "('x3, nbytes', 480)\n"
     ]
    }
   ],
   "source": [
    "print(\"x3, ndim:\", x3.ndim)\n",
    "print(\"x3, shape:\", x3.shape)\n",
    "print(\"x3, size:\", x3.size)\n",
    "print(\"x3, type:\", x3.dtype)\n",
    "print(\"x3, itemsize\", x3.itemsize)\n",
    "print(\"x3, nbytes\", x3.nbytes)\n",
    "\n"
   ]
  },
  {
   "cell_type": "code",
   "execution_count": null,
   "metadata": {},
   "outputs": [],
   "source": []
  }
 ],
 "metadata": {
  "kernelspec": {
   "display_name": "Python 2",
   "language": "python",
   "name": "python2"
  },
  "language_info": {
   "codemirror_mode": {
    "name": "ipython",
    "version": 2
   },
   "file_extension": ".py",
   "mimetype": "text/x-python",
   "name": "python",
   "nbconvert_exporter": "python",
   "pygments_lexer": "ipython2",
   "version": "2.7.14"
  }
 },
 "nbformat": 4,
 "nbformat_minor": 2
}
